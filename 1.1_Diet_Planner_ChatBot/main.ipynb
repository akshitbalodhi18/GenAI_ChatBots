{
 "cells": [
  {
   "cell_type": "markdown",
   "metadata": {},
   "source": [
    "#### This is a very basic diet planner chatbot"
   ]
  },
  {
   "cell_type": "code",
   "execution_count": 17,
   "metadata": {},
   "outputs": [],
   "source": [
    "from langchain_ollama import OllamaLLM\n",
    "from langchain_core.prompts import ChatPromptTemplate"
   ]
  },
  {
   "cell_type": "code",
   "execution_count": 18,
   "metadata": {},
   "outputs": [],
   "source": [
    "prompt = ChatPromptTemplate(\n",
    "    [\n",
    "        (\"system\",\"You are a dietician. Suggest user some diet based on its requirements.\"),\n",
    "        (\"user\",\"{input}\")\n",
    "    ]\n",
    ")"
   ]
  },
  {
   "cell_type": "code",
   "execution_count": 19,
   "metadata": {},
   "outputs": [
    {
     "data": {
      "text/plain": [
       "OllamaLLM(model='llama3.2')"
      ]
     },
     "execution_count": 19,
     "metadata": {},
     "output_type": "execute_result"
    }
   ],
   "source": [
    "llm = OllamaLLM(model=\"llama3.2\")\n",
    "llm"
   ]
  },
  {
   "cell_type": "code",
   "execution_count": 20,
   "metadata": {},
   "outputs": [
    {
     "name": "stdout",
     "output_type": "stream",
     "text": [
      "As a dietician, I'd be happy to help you with a lactose-free diet plan.\n",
      "\n",
      "Lactose intolerance is a common condition where the body doesn't produce enough lactase, an enzyme that breaks down lactose (a sugar found in milk). This means that consuming dairy products can cause discomfort, bloating, and digestive issues.\n",
      "\n",
      "Here's a 7-day meal plan to help you stay on track:\n",
      "\n",
      "**Monday**\n",
      "\n",
      "* Breakfast: Oatmeal with almond milk, sliced banana, and walnuts\n",
      "* Lunch: Grilled chicken breast with roasted vegetables (bell peppers, carrots, broccoli) and quinoa\n",
      "* Snack: Apple slices with almond butter\n",
      "* Dinner: Grilled salmon with brown rice, steamed green beans, and a side salad\n",
      "\n",
      "**Tuesday**\n",
      "\n",
      "* Breakfast: Smoothie made with coconut milk, frozen berries, spinach, and chia seeds\n",
      "* Lunch: Turkey and avocado wrap with lettuce, tomato, and mustard (use lactose-free mayo)\n",
      "* Snack: Carrot sticks with hummus\n",
      "* Dinner: Lentil soup with a side of whole-grain bread and a green salad\n",
      "\n",
      "**Wednesday**\n",
      "\n",
      "* Breakfast: Scrambled eggs with spinach, mushrooms, and whole-grain toast\n",
      "* Lunch: Grilled chicken Caesar salad (use lactose-free dressing)\n",
      "* Snack: Rice cakes with almond butter and banana slices\n",
      "* Dinner: Baked sweet potato with black beans, salsa, and avocado\n",
      "\n",
      "**Thursday**\n",
      "\n",
      "* Breakfast: Avocado toast on whole-grain bread with scrambled eggs and cherry tomatoes\n",
      "* Lunch: Grilled chicken breast with mixed greens salad and a balsamic vinaigrette dressing\n",
      "* Snack: Cottage cheese alternative (made from coconut milk or almond milk) with sliced cucumber and mint\n",
      "* Dinner: Stir-fry with tofu, mixed vegetables, brown rice, and a side of steamed broccoli\n",
      "\n",
      "**Friday**\n",
      "\n",
      "* Breakfast: Overnight oats made with coconut milk, rolled oats, and chia seeds\n",
      "* Lunch: Turkey and cheese-free sandwich (use lactose-free alternative) on whole-grain bread with carrot sticks and hummus\n",
      "* Snack: Edamame\n",
      "* Dinner: Grilled shrimp with roasted vegetables (asparagus, bell peppers, zucchini) and quinoa\n",
      "\n",
      "**Saturday**\n",
      "\n",
      "* Breakfast: Smoothie bowl made with almond milk, frozen berries, spinach, and chia seeds topped with granola and sliced almonds\n",
      "* Lunch: Grilled chicken breast with mixed greens salad and a balsamic vinaigrette dressing\n",
      "* Snack: Rice crackers with hummus\n",
      "* Dinner: Baked chicken breast with roasted Brussels sprouts and sweet potato\n",
      "\n",
      "**Sunday**\n",
      "\n",
      "* Breakfast: Whole-grain pancakes made with almond milk, topped with fresh berries and maple syrup\n",
      "* Lunch: Turkey and cheese-free wrap (use lactose-free alternative) on whole-grain bread with carrot sticks and hummus\n",
      "* Snack: Apple slices with peanut butter\n",
      "* Dinner: Grilled salmon with roasted asparagus and quinoa\n",
      "\n",
      "**Tips**\n",
      "\n",
      "* Choose lactose-free alternatives like almond milk, coconut milk, or oat milk for beverages.\n",
      "* Opt for dairy-free cheese alternatives or skip cheese altogether.\n",
      "* Experiment with new fruits and vegetables to find your favorites!\n",
      "* Stay hydrated by drinking plenty of water throughout the day.\n",
      "\n",
      "Feel free to adjust this meal plan according to your personal preferences and dietary needs. Also, remember to consult a healthcare professional before making any significant changes to your diet.\n",
      "\n",
      "How does this meal plan sound? Are there any specific foods or meals you'd like me to modify or recommend?\n"
     ]
    }
   ],
   "source": [
    "chain = prompt|llm\n",
    "response = chain.invoke({\"input\":\"I am lactose intolerant. Suggest me some diet plan accordingly\"})\n",
    "print(response)"
   ]
  }
 ],
 "metadata": {
  "kernelspec": {
   "display_name": "venv",
   "language": "python",
   "name": "python3"
  },
  "language_info": {
   "codemirror_mode": {
    "name": "ipython",
    "version": 3
   },
   "file_extension": ".py",
   "mimetype": "text/x-python",
   "name": "python",
   "nbconvert_exporter": "python",
   "pygments_lexer": "ipython3",
   "version": "3.10.0"
  }
 },
 "nbformat": 4,
 "nbformat_minor": 2
}
